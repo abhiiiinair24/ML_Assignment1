{
  "nbformat": 4,
  "nbformat_minor": 0,
  "metadata": {
    "colab": {
      "provenance": [],
      "include_colab_link": true
    },
    "kernelspec": {
      "name": "python3",
      "display_name": "Python 3"
    },
    "language_info": {
      "name": "python"
    }
  },
  "cells": [
    {
      "cell_type": "markdown",
      "metadata": {
        "id": "view-in-github",
        "colab_type": "text"
      },
      "source": [
        "<a href=\"https://colab.research.google.com/github/abhiiiinair24/git-github/blob/main/ML_Assignment_1.ipynb\" target=\"_parent\"><img src=\"https://colab.research.google.com/assets/colab-badge.svg\" alt=\"Open In Colab\"/></a>"
      ]
    },
    {
      "cell_type": "markdown",
      "source": [
        "Assignment 1 :\n",
        "Classification and Regression Methods"
      ],
      "metadata": {
        "id": "pmkFZcINACfG"
      }
    },
    {
      "cell_type": "markdown",
      "source": [
        "Part I: Data Analysis & Preprocessing"
      ],
      "metadata": {
        "id": "3ioeeUDVAIT-"
      }
    },
    {
      "cell_type": "markdown",
      "source": [
        "Import libraries"
      ],
      "metadata": {
        "id": "Io-mKs9oArZL"
      }
    },
    {
      "cell_type": "code",
      "source": [
        "import numpy as np\n",
        "import matplotlib.pyplot as plt\n",
        "import seaborn as sns\n",
        "import pandas as pd\n",
        "from sklearn.impute import KNNImputer"
      ],
      "metadata": {
        "id": "dKsPEHJkABMC"
      },
      "execution_count": 9,
      "outputs": []
    },
    {
      "cell_type": "markdown",
      "source": [
        "Show head(), shape, dtypes. Analyze the dataset, e.g., return\n",
        "the main statistics. Provide a brief description (2-3 sentences) of the dataset: What does\n",
        "it represent / key features."
      ],
      "metadata": {
        "id": "ureQBPEkAnJl"
      }
    },
    {
      "cell_type": "code",
      "source": [
        "df = pd.read_csv('penguins.csv')\n",
        "print('Penguins Dataset: \\n',df.head())\n",
        "print('Penguins Dataset Shape: \\n',df.shape)\n",
        "print('Penguins Dataset Type: \\n',df.dtypes)\n",
        "\n",
        "#print(df)\n",
        "'''\n",
        "Provide a brief description (2-3 sentences) of the dataset: What does it represent / key features.\n",
        "\n",
        "'''"
      ],
      "metadata": {
        "colab": {
          "base_uri": "https://localhost:8080/",
          "height": 630
        },
        "id": "RAVlzuWZAMaM",
        "outputId": "9724760a-282d-4c81-f589-a765906a6307"
      },
      "execution_count": 19,
      "outputs": [
        {
          "output_type": "stream",
          "name": "stdout",
          "text": [
            "Penguins Dataset: \n",
            "   species     island  calorie requirement  average sleep duration  \\\n",
            "0  Adelie  Torgersen                 6563                      11   \n",
            "1  Adelie  Torgersen                 4890                      14   \n",
            "2  Adelie  Torgersen                 7184                      11   \n",
            "3  Adelie  Torgersen                 4169                       8   \n",
            "4  Adelie  Torgersen                 4774                       8   \n",
            "\n",
            "   bill_length_mm  bill_depth_mm  flipper_length_mm  body_mass_g  gender  \\\n",
            "0            39.1           18.7              181.0       3750.0    male   \n",
            "1            39.5           17.4              186.0       3800.0  female   \n",
            "2            40.3           18.0              195.0       3250.0  female   \n",
            "3             NaN            NaN                NaN        992.0     NaN   \n",
            "4            36.7           19.3              193.0       3450.0  female   \n",
            "\n",
            "     year  \n",
            "0  2007.0  \n",
            "1  2007.0  \n",
            "2  2007.0  \n",
            "3  2007.0  \n",
            "4  2007.0  \n",
            "Penguins Dataset Shape: \n",
            " (344, 10)\n",
            "Penguins Dataset Type: \n",
            " species                    object\n",
            "island                     object\n",
            "calorie requirement         int64\n",
            "average sleep duration      int64\n",
            "bill_length_mm            float64\n",
            "bill_depth_mm             float64\n",
            "flipper_length_mm         float64\n",
            "body_mass_g               float64\n",
            "gender                     object\n",
            "year                      float64\n",
            "dtype: object\n"
          ]
        },
        {
          "output_type": "execute_result",
          "data": {
            "text/plain": [
              "'\\nProvide a brief description (2-3 sentences) of the dataset: What does it represent / key features.\\n\\n'"
            ],
            "application/vnd.google.colaboratory.intrinsic+json": {
              "type": "string"
            }
          },
          "metadata": {},
          "execution_count": 19
        }
      ]
    },
    {
      "cell_type": "markdown",
      "source": [
        "Return basic statistics using describe(). Return missing counts per column table. Which\n",
        "columns have missing values or suspicious values?"
      ],
      "metadata": {
        "id": "j9rtpSAhAoKa"
      }
    },
    {
      "cell_type": "code",
      "source": [
        "print('Statistics : \\n',df.describe())\n",
        "\n",
        "missingCountpercolumnssum = df.isnull().sum()\n",
        "print('Missing column wise value: \\n',missingCountpercolumnssum)\n",
        "\n",
        "#We can see that the number of missing values in the columns are pretty large and hence not very ideal to drop them\n",
        "#Imputing the values into the dataset with mean/median and mode.\n",
        "\n",
        "#From the above i can see i have 3 columns with datatype as object\n",
        "#Iterate over the dataset and change numerical values with mean/median and categorical values with mode().\n",
        "\n",
        "for colTraverse in df.columns:\n",
        "  if df[colTraverse].dtype == 'object':\n",
        "    df[colTraverse].fillna(df[colTraverse].mode()[0],inplace=True)\n",
        "  else:\n",
        "    df[colTraverse].fillna(df[colTraverse].mean(),inplace=True)\n",
        "\n",
        "#print('Updated: \\n',df)\n",
        "\n",
        "missingCountpercolumnssumupdated = df.isnull().sum()\n",
        "print('Cross verifying null values if exists now or not: \\n',missingCountpercolumnssumupdated)"
      ],
      "metadata": {
        "colab": {
          "base_uri": "https://localhost:8080/"
        },
        "id": "HP-IW1_sAhPb",
        "outputId": "26108f31-21f9-4558-8d59-fc4dc99918ca"
      },
      "execution_count": 20,
      "outputs": [
        {
          "output_type": "stream",
          "name": "stdout",
          "text": [
            "Statistics : \n",
            "        calorie requirement  average sleep duration  bill_length_mm  \\\n",
            "count           344.000000              344.000000      337.000000   \n",
            "mean           5270.002907               10.447674       45.494214   \n",
            "std            1067.959116                2.265895       10.815787   \n",
            "min            3504.000000                7.000000       32.100000   \n",
            "25%            4403.000000                9.000000       39.500000   \n",
            "50%            5106.500000               10.000000       45.100000   \n",
            "75%            6212.750000               12.000000       49.000000   \n",
            "max            7197.000000               14.000000      124.300000   \n",
            "\n",
            "       bill_depth_mm  flipper_length_mm  body_mass_g         year  \n",
            "count     333.000000         336.000000   339.000000   342.000000  \n",
            "mean       18.018318         197.764881  4175.463127  2008.035088  \n",
            "std         9.241384          27.764491   858.713267     0.816938  \n",
            "min        13.100000          10.000000   882.000000  2007.000000  \n",
            "25%        15.700000         190.000000  3550.000000  2007.000000  \n",
            "50%        17.300000         197.000000  4050.000000  2008.000000  \n",
            "75%        18.700000         213.000000  4750.000000  2009.000000  \n",
            "max       127.260000         231.000000  6300.000000  2009.000000  \n",
            "Missing column wise value: \n",
            " species                   11\n",
            "island                    10\n",
            "calorie requirement        0\n",
            "average sleep duration     0\n",
            "bill_length_mm             7\n",
            "bill_depth_mm             11\n",
            "flipper_length_mm          8\n",
            "body_mass_g                5\n",
            "gender                    17\n",
            "year                       2\n",
            "dtype: int64\n",
            "Cross verifying null values if exists now or not: \n",
            " species                   0\n",
            "island                    0\n",
            "calorie requirement       0\n",
            "average sleep duration    0\n",
            "bill_length_mm            0\n",
            "bill_depth_mm             0\n",
            "flipper_length_mm         0\n",
            "body_mass_g               0\n",
            "gender                    0\n",
            "year                      0\n",
            "dtype: int64\n"
          ]
        },
        {
          "output_type": "stream",
          "name": "stderr",
          "text": [
            "/tmp/ipython-input-3162779856.py:14: FutureWarning: A value is trying to be set on a copy of a DataFrame or Series through chained assignment using an inplace method.\n",
            "The behavior will change in pandas 3.0. This inplace method will never work because the intermediate object on which we are setting values always behaves as a copy.\n",
            "\n",
            "For example, when doing 'df[col].method(value, inplace=True)', try using 'df.method({col: value}, inplace=True)' or df[col] = df[col].method(value) instead, to perform the operation inplace on the original object.\n",
            "\n",
            "\n",
            "  df[colTraverse].fillna(df[colTraverse].mode()[0],inplace=True)\n",
            "/tmp/ipython-input-3162779856.py:16: FutureWarning: A value is trying to be set on a copy of a DataFrame or Series through chained assignment using an inplace method.\n",
            "The behavior will change in pandas 3.0. This inplace method will never work because the intermediate object on which we are setting values always behaves as a copy.\n",
            "\n",
            "For example, when doing 'df[col].method(value, inplace=True)', try using 'df.method({col: value}, inplace=True)' or df[col] = df[col].method(value) instead, to perform the operation inplace on the original object.\n",
            "\n",
            "\n",
            "  df[colTraverse].fillna(df[colTraverse].mean(),inplace=True)\n"
          ]
        }
      ]
    },
    {
      "cell_type": "markdown",
      "source": [
        "Handle mismatched string formats.\n",
        "For example, in the penguins dataset, the \"Species\" feature might appear as \"Adelie\" or\n",
        "\"adelie,\" both of which refer to the same penguin species. These variations should be\n",
        "standardized to a consistent format such as \"Adelie\" or \"adelie\"."
      ],
      "metadata": {
        "id": "eCgYvc5s-o2J"
      }
    },
    {
      "cell_type": "code",
      "source": [
        "for colTraverse in df.columns:\n",
        "  if df[colTraverse].dtype == 'object':\n",
        "    df[colTraverse] = df[colTraverse].astype(str).str.lower().str.strip()\n",
        "\n",
        "#Converting all the categorical values to small case and removing the extra spaces or anything so that\n",
        "#it becomes more meaningful and classifies properly.\n",
        "\n",
        "print ('After Fixing Mismatched String formats: \\n',df)"
      ],
      "metadata": {
        "id": "31tRBhAs2Byk",
        "colab": {
          "base_uri": "https://localhost:8080/"
        },
        "outputId": "5f01e0e4-e6f0-4168-f76b-121d00f8b996"
      },
      "execution_count": 23,
      "outputs": [
        {
          "output_type": "stream",
          "name": "stdout",
          "text": [
            "After Fixing Mismatched String formats: \n",
            "        species     island  calorie requirement  average sleep duration  \\\n",
            "0       adelie  torgersen                 6563                      11   \n",
            "1       adelie  torgersen                 4890                      14   \n",
            "2       adelie  torgersen                 7184                      11   \n",
            "3       adelie  torgersen                 4169                       8   \n",
            "4       adelie  torgersen                 4774                       8   \n",
            "..         ...        ...                  ...                     ...   \n",
            "339  chinstrap      dream                 4826                      11   \n",
            "340  chinstrap      dream                 4111                       9   \n",
            "341  chinstrap      dream                 7049                      10   \n",
            "342  chinstrap      dream                 4705                       7   \n",
            "343  chinstrap      dream                 6098                       7   \n",
            "\n",
            "     bill_length_mm  bill_depth_mm  flipper_length_mm  body_mass_g  gender  \\\n",
            "0         39.100000      18.700000         181.000000       3750.0    male   \n",
            "1         39.500000      17.400000         186.000000       3800.0  female   \n",
            "2         40.300000      18.000000         195.000000       3250.0  female   \n",
            "3         45.494214      18.018318         197.764881        992.0    male   \n",
            "4         36.700000      19.300000         193.000000       3450.0  female   \n",
            "..              ...            ...                ...          ...     ...   \n",
            "339       55.800000      19.800000         207.000000       4000.0    male   \n",
            "340       43.500000      18.100000         202.000000       3400.0  female   \n",
            "341       49.600000      18.200000         193.000000       3775.0    male   \n",
            "342       50.800000      19.000000         210.000000       4100.0    male   \n",
            "343       50.200000      18.700000         198.000000       3775.0  female   \n",
            "\n",
            "       year  \n",
            "0    2007.0  \n",
            "1    2007.0  \n",
            "2    2007.0  \n",
            "3    2007.0  \n",
            "4    2007.0  \n",
            "..      ...  \n",
            "339  2009.0  \n",
            "340  2009.0  \n",
            "341  2009.0  \n",
            "342  2009.0  \n",
            "343  2009.0  \n",
            "\n",
            "[344 rows x 10 columns]\n"
          ]
        }
      ]
    },
    {
      "cell_type": "markdown",
      "source": [
        "Handle outliers. Detect and manage outliers within the dataset.\n",
        "For example, in the penguins dataset, while flipper lengths typically fall within the range\n",
        "of [180 – 210], certain entries might show values like [10-30]. These can be considered\n",
        "outliers. Possible solutions:\n",
        "• Remove outliers. If there are just a few outliers, you may eliminate the rows containing\n",
        "these outliers.\n",
        "• Impute outliers. Replace the outliers with the mean/median/mode of the feature."
      ],
      "metadata": {
        "id": "KMlwAyxFF-xw"
      }
    },
    {
      "cell_type": "code",
      "source": [
        "#print(df.dtypes)\n",
        "\n",
        "##USed in selecting both int and float values.\n",
        "numericalVal = df.select_dtypes(include=[np.number])\n",
        "\n",
        "#print(numericalVal)\n",
        "\n",
        "#APply IQR\n",
        "\n",
        "Q1 = numericalVal.quantile(0.25)\n",
        "Q2 = numericalVal.quantile(0.75)\n",
        "#print('25th percentile: \\n',Q1)\n",
        "#print('75th percentile: \\n',Q2)\n",
        "\n",
        "IQR = Q2-Q1\n",
        "#print('QR: \\n',IQR)\n",
        "\n",
        "lowerThresshold = (Q1 - 1 * IQR)\n",
        "upperThresshold = (Q2 + 1 * IQR)\n",
        "\n",
        "outliers = (numericalVal < lowerThresshold) | (numericalVal > upperThresshold)\n",
        "#print(outliers.count)\n",
        "\n",
        "if outliers.any().any():  #To check the entire dataframe , .any() resulted only in columns\n",
        "    print(\"Outliers Present.\")\n",
        "else:\n",
        "    print(\"No outliers found.\")\n",
        "\n",
        "for colTraverse in numericalVal.columns:\n",
        "  if outliers[colTraverse].any():\n",
        "    meanval = df[colTraverse].mean()\n",
        "    df.loc[outliers[colTraverse],colTraverse] = meanval\n",
        "\n",
        "print(df)\n"
      ],
      "metadata": {
        "id": "osF2EPHg2Bwf",
        "colab": {
          "base_uri": "https://localhost:8080/"
        },
        "outputId": "3a9bb10d-1d54-47ec-a725-eb7ca50cc386"
      },
      "execution_count": 41,
      "outputs": [
        {
          "output_type": "stream",
          "name": "stdout",
          "text": [
            "Outliers Present.\n",
            "       species     island  calorie requirement  average sleep duration  \\\n",
            "0       adelie  torgersen                 6563                      11   \n",
            "1       adelie  torgersen                 4890                      14   \n",
            "2       adelie  torgersen                 7184                      11   \n",
            "3       adelie  torgersen                 4169                       8   \n",
            "4       adelie  torgersen                 4774                       8   \n",
            "..         ...        ...                  ...                     ...   \n",
            "339  chinstrap      dream                 4826                      11   \n",
            "340  chinstrap      dream                 4111                       9   \n",
            "341  chinstrap      dream                 7049                      10   \n",
            "342  chinstrap      dream                 4705                       7   \n",
            "343  chinstrap      dream                 6098                       7   \n",
            "\n",
            "     bill_length_mm  bill_depth_mm  flipper_length_mm  body_mass_g  gender  \\\n",
            "0         39.100000      18.700000         181.000000  3750.000000    male   \n",
            "1         39.500000      17.400000         186.000000  3800.000000  female   \n",
            "2         40.300000      18.000000         195.000000  3250.000000  female   \n",
            "3         45.494214      18.018318         197.764881  4175.463127    male   \n",
            "4         36.700000      19.300000         193.000000  3450.000000  female   \n",
            "..              ...            ...                ...          ...     ...   \n",
            "339       55.800000      19.800000         207.000000  4000.000000    male   \n",
            "340       43.500000      18.100000         202.000000  3400.000000  female   \n",
            "341       49.600000      18.200000         193.000000  3775.000000    male   \n",
            "342       50.800000      19.000000         210.000000  4100.000000    male   \n",
            "343       50.200000      18.700000         198.000000  3775.000000  female   \n",
            "\n",
            "       year  \n",
            "0    2007.0  \n",
            "1    2007.0  \n",
            "2    2007.0  \n",
            "3    2007.0  \n",
            "4    2007.0  \n",
            "..      ...  \n",
            "339  2009.0  \n",
            "340  2009.0  \n",
            "341  2009.0  \n",
            "342  2009.0  \n",
            "343  2009.0  \n",
            "\n",
            "[344 rows x 10 columns]\n"
          ]
        }
      ]
    },
    {
      "cell_type": "code",
      "source": [],
      "metadata": {
        "id": "LhpnQrVi2BsT"
      },
      "execution_count": null,
      "outputs": []
    },
    {
      "cell_type": "code",
      "source": [],
      "metadata": {
        "id": "qvEITayR2BqA"
      },
      "execution_count": null,
      "outputs": []
    }
  ]
}